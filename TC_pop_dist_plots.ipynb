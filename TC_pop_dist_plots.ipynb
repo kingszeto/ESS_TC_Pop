{
  "nbformat": 4,
  "nbformat_minor": 0,
  "metadata": {
    "colab": {
      "name": "TC_pop_dist_plots.ipynb",
      "provenance": []
    },
    "kernelspec": {
      "name": "python3",
      "display_name": "Python 3"
    }
  },
  "cells": [
    {
      "cell_type": "code",
      "metadata": {
        "id": "T_4E_jZHp5JP",
        "colab_type": "code",
        "colab": {
          "base_uri": "https://localhost:8080/",
          "height": 283
        },
        "outputId": "b247bfc1-49bd-4e06-85dd-a08e44d88937"
      },
      "source": [
        "!pip install rasterio\n",
        "\n",
        "!pip install cython\n",
        "!pip install cartopy"
      ],
      "execution_count": 2,
      "outputs": [
        {
          "output_type": "stream",
          "text": [
            "Requirement already satisfied: rasterio in /usr/local/lib/python3.6/dist-packages (1.1.0)\n",
            "Requirement already satisfied: snuggs>=1.4.1 in /usr/local/lib/python3.6/dist-packages (from rasterio) (1.4.7)\n",
            "Requirement already satisfied: numpy in /usr/local/lib/python3.6/dist-packages (from rasterio) (1.17.3)\n",
            "Requirement already satisfied: cligj>=0.5 in /usr/local/lib/python3.6/dist-packages (from rasterio) (0.5.0)\n",
            "Requirement already satisfied: click-plugins in /usr/local/lib/python3.6/dist-packages (from rasterio) (1.1.1)\n",
            "Requirement already satisfied: affine in /usr/local/lib/python3.6/dist-packages (from rasterio) (2.3.0)\n",
            "Requirement already satisfied: click<8,>=4.0 in /usr/local/lib/python3.6/dist-packages (from rasterio) (7.0)\n",
            "Requirement already satisfied: attrs in /usr/local/lib/python3.6/dist-packages (from rasterio) (19.3.0)\n",
            "Requirement already satisfied: pyparsing>=2.1.6 in /usr/local/lib/python3.6/dist-packages (from snuggs>=1.4.1->rasterio) (2.4.2)\n",
            "Requirement already satisfied: cython in /usr/local/lib/python3.6/dist-packages (0.29.13)\n",
            "Collecting cartopy\n",
            "  Using cached https://files.pythonhosted.org/packages/e5/92/fe8838fa8158931906dfc4f16c5c1436b3dd2daf83592645b179581403ad/Cartopy-0.17.0.tar.gz\n",
            "  Installing build dependencies ... \u001b[?25l\u001b[?25hdone\n",
            "  Getting requirements to build wheel ... \u001b[?25l\u001b[?25herror\n",
            "\u001b[31mERROR: Command errored out with exit status 1: /usr/bin/python3 /usr/local/lib/python3.6/dist-packages/pip/_vendor/pep517/_in_process.py get_requires_for_build_wheel /tmp/tmp2qxu4osc Check the logs for full command output.\u001b[0m\n"
          ],
          "name": "stdout"
        }
      ]
    },
    {
      "cell_type": "code",
      "metadata": {
        "id": "VLVztQXOqD9M",
        "colab_type": "code",
        "colab": {
          "base_uri": "https://localhost:8080/",
          "height": 52
        },
        "outputId": "f5612f01-8be8-4aa5-d5ca-06b6fbc96837"
      },
      "source": [
        "from google.colab import drive\n",
        "drive.mount('/content/drive')"
      ],
      "execution_count": 4,
      "outputs": [
        {
          "output_type": "stream",
          "text": [
            "Drive already mounted at /content/drive; to attempt to forcibly remount, call drive.mount(\"/content/drive\", force_remount=True).\n"
          ],
          "name": "stdout"
        }
      ]
    },
    {
      "cell_type": "code",
      "metadata": {
        "id": "ReJBxet6qKME",
        "colab_type": "code",
        "colab": {}
      },
      "source": [
        "import rasterio\n",
        "import gdal\n",
        "from scipy.io import loadmat\n",
        " \n",
        "import numpy as np\n",
        "import matplotlib as mpl\n",
        "import matplotlib.pyplot as plt\n",
        "\n",
        "import pandas as pd\n",
        "import seaborn as sns\n",
        "%matplotlib inline"
      ],
      "execution_count": 0,
      "outputs": []
    },
    {
      "cell_type": "code",
      "metadata": {
        "id": "VsLXRcbxqTdE",
        "colab_type": "code",
        "colab": {
          "base_uri": "https://localhost:8080/",
          "height": 82
        },
        "outputId": "787320f8-be2a-4285-c115-1b385e6067f3"
      },
      "source": [
        "dset_gtiff = \"/content/drive/My Drive/Data/gpw_v4_population_count_rev11_2020_2pt5_min.tif\"\n",
        "gdal.AllRegister()\n",
        "global ds\n",
        "ds = gdal.Open(dset_gtiff)\n",
        "band = ds.GetRasterBand(1)\n",
        "arr = band.ReadAsArray()\n",
        "ds_size = arr.shape\n",
        "if band.GetMinimum() is None or band.GetMaximum() is None:\n",
        "   band.ComputeStatistics(0)\n",
        "      \n",
        "print (\"[ NO DATA VALUE ] = \", band.GetNoDataValue()) # none\n",
        "print (\"[ MIN ] = \", band.GetMinimum())\n",
        "print (\"[ MAX ] = \", band.GetMaximum())\n",
        "print (ds_size)\n",
        "\n",
        "ds.GetProjection()\n",
        "dataGTIFF = ds.ReadAsArray()"
      ],
      "execution_count": 6,
      "outputs": [
        {
          "output_type": "stream",
          "text": [
            "[ NO DATA VALUE ] =  -3.4028230607370965e+38\n",
            "[ MIN ] =  0.0\n",
            "[ MAX ] =  1710353.125\n",
            "(4320, 8640)\n"
          ],
          "name": "stdout"
        }
      ]
    },
    {
      "cell_type": "code",
      "metadata": {
        "id": "OBGY91cgqWIM",
        "colab_type": "code",
        "colab": {}
      },
      "source": [
        "def gather_data():\n",
        "  all_data = [loadmat('/content/drive/My Drive/Data/TrackData_RMM_phase' + str(i + 1) + '.mat') for i in range(8)]\n",
        "  eight_phase = []\n",
        "  for dset in all_data:\n",
        "    dset_lat = [row for row in dset['latstore']]\n",
        "    dset_long = [row for row in dset['longstore']]\n",
        "    hur_path = [zip(dset_lat[a], dset_long[a]) for a in range(4000)]\n",
        "    eight_phase.append(hur_path)\n",
        "  return eight_phase\n",
        "  \n",
        "def hour_binning(hurr_phases, width = 1.25):\n",
        "  all_data = []\n",
        "  for phase in hurr_phases:\n",
        "    hour_bins = np.zeros((int(90/width), int(280/width))) #setting up a 2d-array for binning.\n",
        "    for hurricane in phase:\n",
        "      hurricane = list(hurricane)\n",
        "      hurricane = [coord for coord in hurricane if coord[0] != 0. and coord[1] != 0.]\n",
        "      for i in range(len(hurricane[1:])):\n",
        "        prev = hurricane[i-1]\n",
        "        if check_same_bin(prev[0], prev[1], hurricane[i][0], hurricane[i][1], width):\n",
        "          hour_bins[int(hurricane[i][0]/width)][int(hurricane[i][1] / width)] += 1\n",
        "        else:\n",
        "          split_hour(hour_bins, int(prev[0]/width), int(prev[1]/width), int(hurricane[i][0]/width), int(hurricane[i][1]/width))\n",
        "    all_data.append(hour_bins)\n",
        "  all_data = np.array([[[float('nan') if num < 1 else num for num in row] for row in data] for data in all_data])\n",
        "  return all_data\n",
        "\n",
        "def split_hour(hurr_phases, coord1x, coord1y, coord2x, coord2y):\n",
        "  dx = coord2x - coord1x\n",
        "  dy = coord2y - coord1y\n",
        "  increment = 1 /(abs(dx) + abs(dy))\n",
        "  incx, incy = 0,0\n",
        "  hurr_phases[coord1x][coord1y] += increment\n",
        "  while(dx != 0 or dy != 0):\n",
        "      if(abs(dx) == abs(dy)):\n",
        "        while(dx != 0 and dy !=0):\n",
        "          incx += 1 if dx > 0 else -1\n",
        "          incy += 1 if dy > 0 else -1\n",
        "          hurr_phases[coord1x+incx][coord1y+incy] += increment\n",
        "          dx -= 1 if dx > 0 else -1\n",
        "          dy -= 1 if dy > 0 else -1\n",
        "      else:\n",
        "        if(abs(dx) > abs(dy)):\n",
        "          incx += 1 if dx > 0 else -1\n",
        "          dx -= 1 if dx > 0 else -1\n",
        "          hurr_phases[coord1x+incx][coord1y+incy] += increment\n",
        "        elif (abs(dy) > abs(dx)):\n",
        "          incy += 1 if dy > 0 else -1\n",
        "          dy -= 1 if dy > 0 else -1\n",
        "          hurr_phases[coord1x+incx][coord1y+incy] += increment\n",
        "\n",
        "def transform_coordinate(j, i, padfTransform):\n",
        "  Yp = padfTransform[0] + i*padfTransform[1] + i*padfTransform[2];\n",
        "  Xp = padfTransform[3] + j*padfTransform[4] + j*padfTransform[5];\n",
        "  if Yp < 0:\n",
        "    Yp += 360\n",
        "  if Yp > 360:\n",
        "    Yp -= 360\n",
        "  return (Xp, Yp)\n",
        "\n",
        "def population_binning(data, width = 1.25):\n",
        "  pop_bins = np.zeros((int(90/width), int(280/width)))\n",
        "  for i in range(len(data) // 2):\n",
        "    for j in range(len(data[i])):\n",
        "      coords = transform_coordinate(i, j, ds.GetGeoTransform())\n",
        "      try:\n",
        "        if (0 <= coords[0] <= 90) and (0 <= coords[1] <= 280) and data[i][j] >= 1:\n",
        "          pop_bins[int(coords[0] / width)][int(coords[1] / width)] += round(data[i][j])\n",
        "      except:\n",
        "        print(coords)\n",
        "  return pop_bins\n",
        "\n",
        "def check_same_bin(x1, y1, x2, y2, width):\n",
        "  return int(x1/width) == int(x2/width) and int(y1/width) == int(y2/width) \n",
        "\n",
        "def popxhours(population, hour_set):\n",
        "  pop_hour_bins = [population*phase for phase in hour_set]\n",
        "  pop_hour_bins = [[[float('nan') if np.isnan(num) or num <= 1 else num for num in row] for row in data] for data in pop_hour_bins]\n",
        "  return np.array(pop_hour_bins)\n",
        "  \n",
        "def popxhours_anomaly(pop_hour_bins, percentage = False): \n",
        "  sum_pop_hours = np.zeros(pop_hour_bins.shape[1:])\n",
        "  phases_participated = np.zeros(pop_hour_bins.shape[1:]) #Need to get the number of phases each bin has been in\n",
        "  for i in range(sum_pop_hours.shape[0]):\n",
        "    for j in range(sum_pop_hours.shape[1]):\n",
        "      vals = [phase[i,j] for phase in pop_hour_bins if not np.isnan(phase[i,j])]\n",
        "      sum_pop_hours[i,j] = np.nansum(vals)\n",
        "      phases_participated[i,j] = len(vals)\n",
        "  sum_pop_hours = np.array([[sum_pop_hours[i,j] / phases_participated[i,j] if phases_participated[i,j] > 0 else float('nan') for j in range(len(sum_pop_hours[i]))]for i in range(sum_pop_hours.shape[0])])\n",
        "  all_data = []\n",
        "  \n",
        "  for phase in pop_hour_bins:\n",
        "    phase_data = np.zeros(pop_hour_bins.shape[1:])\n",
        "    for i in range(phase_data.shape[0]):\n",
        "      for j in range(phase_data.shape[1]):\n",
        "        if not percentage:\n",
        "          phase_data[i,j] = float('nan') if np.isnan(sum_pop_hours[i,j]) else phase[i,j] - sum_pop_hours[i,j]\n",
        "        elif percentage and phases_participated[i,j] == 8:\n",
        "          phase_data[i,j] = float('nan') if np.isnan(sum_pop_hours[i,j]) else phase[i,j] - sum_pop_hours[i,j]\n",
        "          phase_data[i,j] = phase_data[i,j] * 100 /sum_pop_hours[i,j]\n",
        "        else:\n",
        "          phase_data[i,j] = float('nan')\n",
        "    all_data.append(phase_data)\n",
        "  return all_data\n",
        "\n",
        "def data_dict(data = None, label=None, xaxis=None, yaxis=None, cmapscheme=None, cmapmin=None, cmapmax=None, cmaplabel=None):\n",
        "  ps = {}\n",
        "  ps['data'] = data\n",
        "  ps['label'] = label\n",
        "  ps['xaxis'] = xaxis\n",
        "  ps['yaxis'] = yaxis\n",
        "  ps['cmapscheme'] = cmapscheme\n",
        "  ps['cmapmin'] = cmapmin\n",
        "  ps['cmapmax'] = cmapmax\n",
        "  ps['cmaplabel'] = cmaplabel\n",
        "  return ps"
      ],
      "execution_count": 0,
      "outputs": []
    },
    {
      "cell_type": "code",
      "metadata": {
        "id": "JBdkShCnq5Tq",
        "colab_type": "code",
        "colab": {}
      },
      "source": [
        "def plot_hours(hourset, mean = False):\n",
        "  phase_plot = [1,2,3,4,5,6,7,8]\n",
        "  hours = [np.nanmean(phase) if mean else np.nansum(phase) for phase in hourset]\n",
        "  plt.plot(phase_plot, hours)\n",
        "  plt.show()\n",
        "\n",
        "import random\n",
        "def bootstrap_data(TCphases, samp_size, num_samples, mean = False):\n",
        "  phase_plot = [1,2,3,4,5,6,7,8]\n",
        "  dist_data = [[] for i in range(8)]\n",
        "  for sample in range(num_samples):\n",
        "    small_phases = []\n",
        "    for phase in TCphases:\n",
        "      indicies = random.sample(range(0, len(phase)), samp_size)\n",
        "      tempset = [phase[index] for index in indicies]\n",
        "      small_phases.append(tempset)\n",
        "    sample_bins = hour_binning(small_phases)\n",
        "    for i in range(len(sample_bins)):\n",
        "      dist_data[i].append(np.nansum(sample_bins[i]))#/samp_size))\n",
        "    sum_phase = [np.nansum(phase) for phase in sample_bins]\n",
        "    plt.plot(phase_plot, sum_phase, linewidth = 0.5)\n",
        "  plt.show()\n",
        "  sns.set(rc={'figure.figsize':(30,20)})\n",
        "  for i in range(len(dist_data)):\n",
        "    sns.distplot(np.array(dist_data[i]), hist=False, kde_kws={\"label\": \"Phase \" + str(i + 1)})\n",
        "  return dist_data\n",
        "\n",
        "def distribution_plot(TCphases):\n",
        "  plt.figure(figsize=(30,20))\n",
        "  positions = [i for i in range(1, 13)]\n",
        "  labels = [10**i for i in positions]\n",
        "  plt.xticks(positions, labels)\n",
        "  for i in range(len(TCphases)):\n",
        "    phase = TCphases[i].flatten()\n",
        "    phase = phase[np.logical_not(np.isnan(phase))]\n",
        "    sns.set()\n",
        "    sns.distplot(phase,hist=False,kde=True, kde_kws={\"label\": \"Phase \" + str(i + 1)})"
      ],
      "execution_count": 0,
      "outputs": []
    },
    {
      "cell_type": "code",
      "metadata": {
        "id": "Dgy9AQJbrVT_",
        "colab_type": "code",
        "colab": {}
      },
      "source": [
        "hour_set = hour_binning(gather_data())\n",
        "hour_set_plots = data_dict(hour_set,'Hours Exposed', None, None, 'rainbow', np.nanmin(np.array(hour_set)), np.nanmax(np.array(hour_set)), 'Hours')\n",
        "\n",
        "hour_anom = popxhours_anomaly(hour_set, True)\n",
        "set_0 = abs(np.nanmax(np.array(hour_anom))) if abs(np.nanmax(np.array(hour_anom))) > abs(np.nanmin(np.array(hour_anom))) else abs(np.nanmin(np.array(hour_anom)))\n",
        "hour_anomaly_plots = data_dict(hour_anom, 'Hours Exposed Anomaly', None, None, 'RdBu', -set_0, set_0, 'Percent Difference From Mean')\n",
        "\n",
        "binned_pop = population_binning(dataGTIFF)\n",
        "all_data = popxhours(binned_pop, hour_set)\n",
        "all_data = np.log10(all_data)\n",
        "pop_hours_data = data_dict(all_data,'Population-Hours', None, None, 'rainbow', np.nanmin(np.array(all_data)), np.nanmax(np.array(all_data)), 'Person-Hours')\n",
        "\n",
        "anom = popxhours_anomaly(all_data, True)\n",
        "set_0 = abs(np.nanmax(np.array(anom))) if abs(np.nanmax(np.array(anom))) > abs(np.nanmin(np.array(anom))) else abs(np.nanmin(np.array(anom)))\n",
        "anomaly_dataset = data_dict(anom, 'Population Hour Anomaly', None, None, 'RdBu', -set_0, set_0, 'Percent Difference From Mean')"
      ],
      "execution_count": 0,
      "outputs": []
    },
    {
      "cell_type": "code",
      "metadata": {
        "id": "51o_wzQZrnuI",
        "colab_type": "code",
        "colab": {}
      },
      "source": [
        "distribution_plot(binned_pop)"
      ],
      "execution_count": 0,
      "outputs": []
    },
    {
      "cell_type": "code",
      "metadata": {
        "id": "5FqBvil2uMvw",
        "colab_type": "code",
        "colab": {}
      },
      "source": [
        ""
      ],
      "execution_count": 0,
      "outputs": []
    }
  ]
}